{
 "cells": [
  {
   "cell_type": "code",
   "execution_count": null,
   "metadata": {},
   "outputs": [],
   "source": [
    "import pandas as pd\n",
    "import numpy as np\n",
    "import matplotlib.pyplot as plt"
   ]
  },
  {
   "cell_type": "code",
   "execution_count": null,
   "metadata": {},
   "outputs": [],
   "source": [
    "def load_performance_stats(model: str, locations: int, transitions: int):\n",
    "    perf = pd.read_json(f\"{model}_performance.stats.json\")\n",
    "    perf[\"num_locations\"] = [locations for _ in range(len(perf))]\n",
    "    perf[\"num_transitions\"] = [transitions for _ in range(len(perf))]\n",
    "    return perf"
   ]
  },
  {
   "cell_type": "code",
   "execution_count": null,
   "metadata": {},
   "outputs": [],
   "source": [
    "perf_2csma = load_performance_stats(\"2csma\", 10, 22)\n",
    "perf_2csma"
   ]
  },
  {
   "cell_type": "code",
   "execution_count": null,
   "metadata": {},
   "outputs": [],
   "source": [
    "perf_4viking = load_performance_stats(\"4viking\", 24, 25)\n",
    "perf_4viking"
   ]
  },
  {
   "cell_type": "code",
   "execution_count": null,
   "metadata": {},
   "outputs": [],
   "source": [
    "perf_6Pacemaker = load_performance_stats(\"6Pacemaker\", 24, 52)\n",
    "perf_6Pacemaker"
   ]
  },
  {
   "cell_type": "code",
   "execution_count": null,
   "metadata": {},
   "outputs": [],
   "source": [
    "perf_7SBR = load_performance_stats(\"7SBR\", 21, 23)\n",
    "perf_7SBR"
   ]
  },
  {
   "cell_type": "code",
   "execution_count": null,
   "metadata": {},
   "outputs": [],
   "source": [
    "perf_8FDDI = load_performance_stats(\"8FDDI\", 16, 20)\n",
    "perf_8FDDI"
   ]
  },
  {
   "cell_type": "code",
   "execution_count": null,
   "metadata": {},
   "outputs": [],
   "source": [
    "perf_total = pd.concat([perf_2csma, perf_4viking, perf_6Pacemaker, perf_7SBR, perf_8FDDI])\n",
    "perf_total.to_csv(\"performance_tests.csv\")"
   ]
  },
  {
   "cell_type": "code",
   "execution_count": null,
   "metadata": {},
   "outputs": [],
   "source": [
    "fig, ax = plt.subplots()\n",
    "ax.plot(perf_2csma[\"depth\"], perf_2csma[\"total_tg_and_qe_runtime_s\"], 'x', label=\"csma\", color=\"b\")\n",
    "ax.plot(perf_4viking[\"depth\"], perf_4viking[\"total_tg_and_qe_runtime_s\"], 'x', label=\"Viking\", color=\"g\")\n",
    "ax.plot(perf_6Pacemaker[\"depth\"], perf_6Pacemaker[\"total_tg_and_qe_runtime_s\"], 'x', label=\"Pacemaker\", color=\"r\")\n",
    "ax.plot(perf_7SBR[\"depth\"], perf_7SBR[\"total_tg_and_qe_runtime_s\"], 'x', label=\"SBR\", color=\"c\")\n",
    "ax.plot(perf_8FDDI[\"depth\"], perf_8FDDI[\"total_tg_and_qe_runtime_s\"], 'x', label=\"FDDI\", color=\"m\")\n",
    "ax.legend()\n",
    "ax.grid()\n",
    "plt.yscale(\"log\")\n",
    "plt.xlabel(\"Bound k\")\n",
    "plt.ylabel(\"Feasible set computation runtime [s]\")\n",
    "plt.show()"
   ]
  },
  {
   "cell_type": "code",
   "execution_count": null,
   "metadata": {},
   "outputs": [],
   "source": [
    "fig, ax = plt.subplots()\n",
    "ax.plot(perf_2csma[\"depth\"], perf_2csma[\"optimization_runtime_s\"], 'x', label=\"csma\", color=\"b\")\n",
    "ax.plot(perf_4viking[\"depth\"], perf_4viking[\"optimization_runtime_s\"], 'x', label=\"Viking\", color=\"g\")\n",
    "ax.plot(perf_6Pacemaker[\"depth\"], perf_6Pacemaker[\"optimization_runtime_s\"], 'x', label=\"Pacemaker\", color=\"r\")\n",
    "ax.plot(perf_7SBR[\"depth\"], perf_7SBR[\"optimization_runtime_s\"], 'x', label=\"SBR\", color=\"c\")\n",
    "ax.plot(perf_8FDDI[\"depth\"], perf_8FDDI[\"optimization_runtime_s\"], 'x', label=\"FDDI\", color=\"m\")\n",
    "\n",
    "ax.legend()\n",
    "ax.grid()\n",
    "plt.yscale(\"log\")\n",
    "plt.ylabel(\"Optimization runtime [s]\")\n",
    "plt.xlabel(\"Bound k\")\n",
    "plt.show()"
   ]
  },
  {
   "cell_type": "code",
   "execution_count": null,
   "metadata": {},
   "outputs": [],
   "source": [
    "fig, ax = plt.subplots()\n",
    "x_column = \"num_terms\"\n",
    "y_column = \"optimization_runtime_s\"\n",
    "ax.plot(perf_2csma[x_column], perf_2csma[y_column], 'x', label=\"csma\", color=\"b\")\n",
    "ax.plot(perf_4viking[x_column], perf_4viking[y_column], 'x', label=\"Viking\", color=\"g\")\n",
    "ax.plot(perf_6Pacemaker[x_column], perf_6Pacemaker[y_column], 'x', label=\"Pacemaker\", color=\"r\")\n",
    "ax.plot(perf_7SBR[x_column], perf_7SBR[y_column], 'x', label=\"SBR\", color=\"c\")\n",
    "ax.plot(perf_8FDDI[x_column], perf_8FDDI[y_column], 'x', label=\"FDDI\", color=\"m\")\n",
    "exp_x = np.arange(0, 51, 1)\n",
    "exp_y = 10 * exp_x # np.power(1.05 * np.ones(len(exp_x)), exp_x)\n",
    "#ax.plot(exp_x, exp_y, label=\"2^x\", color=\"C5\", linestyle=\"dashed\")\n",
    "\n",
    "ax.legend()\n",
    "ax.grid()\n",
    "plt.xscale(\"log\")\n",
    "plt.yscale(\"log\")\n",
    "plt.ylabel(\"Optimization runtime [s]\")\n",
    "plt.xlabel(\"Number of Convex Polytopes\")\n",
    "plt.show()"
   ]
  },
  {
   "cell_type": "code",
   "execution_count": null,
   "metadata": {},
   "outputs": [],
   "source": [
    "fig, ax = plt.subplots()\n",
    "x_column = \"depth\"\n",
    "y_column = \"num_terms\"\n",
    "ax.plot(perf_2csma[x_column], perf_2csma[y_column], 'x', label=\"csma\", color=\"b\")\n",
    "ax.plot(perf_4viking[x_column], perf_4viking[y_column], 'x', label=\"Viking\", color=\"g\")\n",
    "ax.plot(perf_6Pacemaker[x_column], perf_6Pacemaker[y_column], 'x', label=\"Pacemaker\", color=\"r\")\n",
    "ax.plot(perf_7SBR[x_column], perf_7SBR[y_column], 'x', label=\"SBR\", color=\"c\")\n",
    "ax.plot(perf_8FDDI[x_column], perf_8FDDI[y_column], 'x', label=\"FDDI\", color=\"m\")\n",
    "\n",
    "ax.legend()\n",
    "ax.grid()\n",
    "plt.yscale(\"log\")\n",
    "plt.ylabel(\"Number of Convex Polytopes\")\n",
    "plt.xlabel(\"Bound k\")\n",
    "plt.show()"
   ]
  }
 ],
 "metadata": {
  "kernelspec": {
   "display_name": "relaxer-j_eeIk_e",
   "language": "python",
   "name": "python3"
  },
  "language_info": {
   "codemirror_mode": {
    "name": "ipython",
    "version": 3
   },
   "file_extension": ".py",
   "mimetype": "text/x-python",
   "name": "python",
   "nbconvert_exporter": "python",
   "pygments_lexer": "ipython3",
   "version": "3.9.16"
  },
  "orig_nbformat": 4,
  "vscode": {
   "interpreter": {
    "hash": "79b6fa58d694a2e24dc44580d62f6919e9b1c1e606bfa885115939c61fbd3918"
   }
  }
 },
 "nbformat": 4,
 "nbformat_minor": 2
}
